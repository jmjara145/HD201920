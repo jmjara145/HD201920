{
 "cells": [
  {
   "cell_type": "markdown",
   "metadata": {
    "collapsed": true
   },
   "source": [
    "# Condicionales\n",
    "\n",
    "En Python, la sintaxis simple es:\n",
    "\n",
    "```python\n",
    "if condición:\n",
    "    resultado\n",
    "```\n",
    "\n",
    "La condición puede ser cualquier operador que sea verdadera o falsa (`True`, `False`),<sup>[1](#myfootnote1)</sup> por ejemplo:\n",
    "\n",
    "- Igual a: `a == b`\n",
    "- No igual a: `a != b`\n",
    "- Menor que: `a < b`\n",
    "- Menor o igual a: `a <= b`\n",
    "- Mayor que: `a > b`\n",
    "- Mayor o igual a: `a >= b`\n",
    "\n",
    "así como los operadores lógicos\n",
    "\n",
    "- conjunción: `and`\n",
    "- disyunción: `or`\n",
    "- negación: `not`\n",
    "\n",
    "También son últiles los operadores `in` (continencia) e `is` (identidad de objeto).\n",
    "\n",
    "Algunos ejemplos de condicionales simples:"
   ]
  },
  {
   "cell_type": "code",
   "execution_count": null,
   "metadata": {},
   "outputs": [],
   "source": [
    "respuesta = input(\"¿Cuál es su edad? \")\n",
    "edad = int(respuesta)\n",
    "if edad >= 18:\n",
    "    print(\"Usted es mayor de edad.\")"
   ]
  },
  {
   "cell_type": "code",
   "execution_count": null,
   "metadata": {},
   "outputs": [],
   "source": [
    "respuesta = input(\"¿Cuál es su edad? \")\n",
    "edad = int(respuesta)   \n",
    "if edad < 18:\n",
    "    print(\"Usted es menor de edad.\")"
   ]
  },
  {
   "cell_type": "code",
   "execution_count": null,
   "metadata": {},
   "outputs": [],
   "source": [
    "clave = input(\"Introduzca su contraseña: \")\n",
    "if clave == \"qwerty\":\n",
    "    print(\"contraseña correcta\")"
   ]
  },
  {
   "cell_type": "code",
   "execution_count": null,
   "metadata": {},
   "outputs": [],
   "source": [
    "amigo = input(\"¿Cuál es su nombre? \")\n",
    "if amigo not in [\"Carlos\", \"Hans\", \"Douglas\"]:\n",
    "    print(\"¡Usted no es mi amigo!\")"
   ]
  },
  {
   "cell_type": "markdown",
   "metadata": {
    "collapsed": true
   },
   "source": [
    "# Sintaxis compleja\n",
    "\n",
    "```python\n",
    "if condición_1:\n",
    "  resultado_1\n",
    "elif condición_2:\n",
    "  resultado_2\n",
    "# ...\n",
    "elif condición_n:\n",
    "    resultado_n:\n",
    "else:\n",
    "  resultado_final\n",
    "```"
   ]
  },
  {
   "cell_type": "code",
   "execution_count": null,
   "metadata": {},
   "outputs": [],
   "source": [
    "respuesta = input(\"¿Cuál es su edad? \")\n",
    "edad = int(respuesta)   \n",
    "if edad < 18:\n",
    "    print(\"Usted es menor de edad.\")\n",
    "else:\n",
    "    print(\"Usted es mayor de edad.\")"
   ]
  },
  {
   "cell_type": "code",
   "execution_count": null,
   "metadata": {},
   "outputs": [],
   "source": [
    "amigo = input(\"¿Cuál es su nombre? \")\n",
    "if amigo == \"Carlos\":\n",
    "    print(f\"{amigo}, nos vemos a las 5:00pm.\")\n",
    "elif amigo == \"Hans\":\n",
    "    print(f\"{amigo}, hoy no nos podemos ver.\")\n",
    "elif amigo == \"Douglas\":\n",
    "    print(f\"{amigo}, lo llamo en la noche.\")\n",
    "else:\n",
    "    print(\"¡Usted no es mi amigo!\")"
   ]
  },
  {
   "cell_type": "markdown",
   "metadata": {},
   "source": [
    "# Sintaxis abreviada (en una sola línea)\n",
    "## Simple:\n",
    "\n",
    "```python\n",
    "if condición: resultado\n",
    "```\n",
    "\n",
    "## Con `else`:\n",
    "\n",
    "```python\n",
    "resultado_1 if condición else resultado_2\n",
    "```\n",
    "\n",
    "Por ejemplo:"
   ]
  },
  {
   "cell_type": "code",
   "execution_count": null,
   "metadata": {},
   "outputs": [],
   "source": [
    "respuesta = input(\"¿Cuál es su edad? \")\n",
    "edad = int(respuesta)   \n",
    "if edad < 18: print(\"Usted es menor de edad.\")"
   ]
  },
  {
   "cell_type": "code",
   "execution_count": null,
   "metadata": {},
   "outputs": [],
   "source": [
    "respuesta = input(\"¿Cuál es su edad? \")\n",
    "edad = int(respuesta)   \n",
    "print(\"Usted es menor de edad.\") if edad < 18 else print(\"Usted es mayor de edad.\")"
   ]
  },
  {
   "cell_type": "markdown",
   "metadata": {},
   "source": [
    "# Un ejemplo más elaborado"
   ]
  },
  {
   "cell_type": "code",
   "execution_count": null,
   "metadata": {},
   "outputs": [],
   "source": [
    "quijote = \"\"\"\n",
    "En un lugar de la Mancha, de cuyo nombre no quiero acordarme, \n",
    "no ha mucho tiempo que vivía un hidalgo de los de lanza en astillero, \n",
    "adarga antigua, rocín flaco y galgo corredor. \n",
    "Una olla de algo más vaca que carnero, \n",
    "salpicón las más noches, duelos y quebrantos los sábados, \n",
    "lentejas los viernes, algún palomino de añadidura los domingos, \n",
    "consumían las tres partes de su hacienda. \n",
    "El resto della concluían sayo de velarte, \n",
    "calzas de velludo para las fiestas con sus pantuflos de lo mismo, \n",
    "los días de entre semana se honraba con su vellori de lo más fino. \n",
    "Tenía en su casa una ama que pasaba de los cuarenta, \n",
    "y una sobrina que no llegaba a los veinte, y un mozo de campo y plaza, \n",
    "que así ensillaba el rocín como tomaba la podadera. \n",
    "Frisaba la edad de nuestro hidalgo con los cincuenta años, \n",
    "era de complexión recia, seco de carnes, enjuto de rostro; \n",
    "gran madrugador y amigo de la caza. \n",
    "Quieren decir que tenía el sobrenombre de Quijada o Quesada \n",
    "(que en esto hay alguna diferencia en los autores que deste caso escriben), \n",
    "aunque por conjeturas verosímiles se deja entender que se llama Quijana; \n",
    "pero esto importa poco a nuestro cuento; \n",
    "basta que en la narración dél no se salga un punto de la verdad.\n",
    "\"\"\"\n",
    "nuevo = \"\"\n",
    "for c in quijote:\n",
    "    if c == \"a\" or c == \"A\":\n",
    "        c = \"@\"\n",
    "    nuevo += c\n",
    "print(nuevo)"
   ]
  },
  {
   "cell_type": "code",
   "execution_count": null,
   "metadata": {},
   "outputs": [],
   "source": [
    "nuevo = \"\"\n",
    "for c in quijote:\n",
    "    if c.isupper():\n",
    "        c = c.lower()\n",
    "    else:\n",
    "        c = c.upper()\n",
    "    nuevo += c\n",
    "print(nuevo)"
   ]
  },
  {
   "cell_type": "code",
   "execution_count": null,
   "metadata": {},
   "outputs": [],
   "source": [
    "nuevo = \"\"\n",
    "for c in quijote:\n",
    "    nuevo += c.swapcase()\n",
    "print(nuevo)"
   ]
  },
  {
   "cell_type": "markdown",
   "metadata": {},
   "source": [
    "¿Qué hace el método `split()` en el siguiente código?"
   ]
  },
  {
   "cell_type": "code",
   "execution_count": null,
   "metadata": {},
   "outputs": [],
   "source": [
    "quijote.split()"
   ]
  },
  {
   "cell_type": "code",
   "execution_count": null,
   "metadata": {},
   "outputs": [],
   "source": [
    "nuevo = \"\"\n",
    "lista = quijote.split()\n",
    "for palabra in lista:\n",
    "    nuevapalabra = \"\"\n",
    "    for letra in palabra:\n",
    "        if letra in [\"a\", \"e\", \"i\", \"o\", \"u\"] or letra in [\"A\", \"E\", \"I\", \"O\", \"U\"]:\n",
    "            letra = letra.upper()\n",
    "        else:\n",
    "            letra = letra.lower()\n",
    "        nuevapalabra += letra\n",
    "    nuevo = nuevo + nuevapalabra + \" \"\n",
    "print(nuevo)"
   ]
  },
  {
   "cell_type": "code",
   "execution_count": null,
   "metadata": {},
   "outputs": [],
   "source": [
    "cuenta = 0\n",
    "for palabra in lista:\n",
    "    if palabra.lower() == \"la\":\n",
    "        cuenta += 1\n",
    "numero_palabras = len(lista)\n",
    "print(f\"El texto contiene {numero_palabras} palabras.\")\n",
    "print(f\"La palabra 'la' aparece {cuenta} veces en el texto.\")\n",
    "frecuencia = (cuenta * 100) / numero_palabras\n",
    "frecuencia_redondeada = round(frecuencia, 1)\n",
    "print(f\"Es decir, tiene una frecuencia de aparición del {frecuencia_redondeada}%.\")"
   ]
  },
  {
   "cell_type": "markdown",
   "metadata": {
    "collapsed": true
   },
   "source": [
    "# Notas\n",
    "<a name=\"myfootnote1\">1.</a> https://www.w3schools.com/python/python_operators.asp"
   ]
  },
  {
   "cell_type": "code",
   "execution_count": null,
   "metadata": {},
   "outputs": [],
   "source": []
  }
 ],
 "metadata": {
  "kernelspec": {
   "display_name": "Python 3",
   "language": "python",
   "name": "python3"
  },
  "language_info": {
   "codemirror_mode": {
    "name": "ipython",
    "version": 3
   },
   "file_extension": ".py",
   "mimetype": "text/x-python",
   "name": "python",
   "nbconvert_exporter": "python",
   "pygments_lexer": "ipython3",
   "version": "3.7.4"
  }
 },
 "nbformat": 4,
 "nbformat_minor": 2
}
